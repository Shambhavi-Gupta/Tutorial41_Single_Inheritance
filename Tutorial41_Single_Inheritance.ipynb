{
  "nbformat": 4,
  "nbformat_minor": 0,
  "metadata": {
    "colab": {
      "name": "Tutorial41_Single Inheritance.ipynb",
      "provenance": [],
      "authorship_tag": "ABX9TyNR90FVpZN/KBDBt8H689Gc",
      "include_colab_link": true
    },
    "kernelspec": {
      "name": "python3",
      "display_name": "Python 3"
    }
  },
  "cells": [
    {
      "cell_type": "markdown",
      "metadata": {
        "id": "view-in-github",
        "colab_type": "text"
      },
      "source": [
        "<a href=\"https://colab.research.google.com/github/Shambhavi-Gupta/Tutorial41_Single_Inheritance/blob/main/Tutorial41_Single_Inheritance.ipynb\" target=\"_parent\"><img src=\"https://colab.research.google.com/assets/colab-badge.svg\" alt=\"Open In Colab\"/></a>"
      ]
    },
    {
      "cell_type": "code",
      "metadata": {
        "id": "yud8k-E65X6M"
      },
      "source": [
        "class Student:\r\n",
        "    no_of_subjects = 5 #class variable\r\n",
        "    def __init__(self,aname,astandard,asection):\r\n",
        "        self.name = aname\r\n",
        "        self.standard = astandard\r\n",
        "        self.section = asection\r\n",
        "\r\n",
        "    def details(self):\r\n",
        "        return f\"Name is {self.name}, Standard is {self.standard}\"\r\n",
        "\r\n",
        "    # @classmethod\r\n",
        "    # def change_subject(cls , leaves):\r\n",
        "    #       cls.no_of_subjects = leaves\r\n",
        "    #\r\n",
        "    # @classmethod\r\n",
        "    # def from_str(cls,string):\r\n",
        "    #      return cls(*string.split(\"-\"))\r\n",
        "    #\r\n",
        "    # @staticmethod\r\n",
        "    # def printstr(string):\r\n",
        "    #     print(\"My name is \" + string)\r\n",
        "\r\n",
        "class Teacher(Student):\r\n",
        "    no_of_working_hours = 12\r\n",
        "    def __init__(self,aname,astandard,asection,asalary):\r\n",
        "        self.name = aname\r\n",
        "        self.standard = astandard\r\n",
        "        self.section = asection\r\n",
        "        self.salary = asalary\r\n",
        "\r\n",
        "    def printsub(self):\r\n",
        "        return f\"Name of the teacher is {self.name}, Standard is {self.standard}, Salary is {self.salary}\"\r\n",
        "\r\n",
        "\r\n",
        "one = Student(\"Riya\",10,\"A\") #one and two are instance\r\n",
        "two = Student(\"Seema\",12,\"B\")\r\n",
        "\r\n",
        "three = Teacher(\"Tina\" , 6,\"B\",4500)\r\n",
        "four = Teacher(\"Meena\",10,\"D\",6000)\r\n",
        "print(three.no_of_subjects)"
      ],
      "execution_count": null,
      "outputs": []
    }
  ]
}